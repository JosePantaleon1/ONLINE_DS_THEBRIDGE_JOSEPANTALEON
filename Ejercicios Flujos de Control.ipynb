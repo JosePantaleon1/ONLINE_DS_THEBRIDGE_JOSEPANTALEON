{
 "cells": [
  {
   "cell_type": "markdown",
   "metadata": {},
   "source": [
    "![imagen](./img/ejercicios.png)"
   ]
  },
  {
   "cell_type": "markdown",
   "metadata": {},
   "source": [
    "# Ejercicios Flujos de control"
   ]
  },
  {
   "cell_type": "markdown",
   "metadata": {},
   "source": [
    "## Ejercicio 1\n",
    "Declara una variable numérica que será una hora cualquiera del día. Implementa mediante sentencias `if/elif/else` la siguiente casuística:\n",
    "\n",
    "* Si es entre las 0 y las 8, print \"Durmiendo\"\n",
    "* Si es entre las 9 y las 18, print \"Trabajando\"\n",
    "* Si es entre las 19 y las 21, print \"Clase\"\n",
    "* Si es entre las 22 y las 24, print \"Descanso\"\n",
    "* En cualquier otro caso, print \"Transporte o error\""
   ]
  },
  {
   "cell_type": "code",
   "execution_count": 5,
   "metadata": {},
   "outputs": [
    {
     "name": "stdout",
     "output_type": "stream",
     "text": [
      "trabajando\n"
     ]
    }
   ],
   "source": [
    "time = 8\n",
    "if 0 >= time < 8:\n",
    "    print(\"Durmiendo\")\n",
    "elif 9 >= time<= 18:\n",
    "    print(\"trabajando\")\n",
    "elif 19 >= time <= 21:\n",
    "    print(\"Clase\")\n",
    "elif 22 <= time >= 24:\n",
    "    print(\"descanso\")\n",
    "else: \n",
    "    print(\"Transporte o error\")\n",
    "\n"
   ]
  },
  {
   "cell_type": "code",
   "execution_count": null,
   "metadata": {},
   "outputs": [],
   "source": []
  },
  {
   "cell_type": "markdown",
   "metadata": {},
   "source": [
    "## Ejercicio 2\n",
    "En este ejercicio vamos a implementar un calculador de precios de casas muy sencillo. Tenemos las siguientes variables:\n",
    "\n",
    "> superficie\n",
    ">\n",
    "> distrito\n",
    "\n",
    "Implementa mediante sentencias `if/elif/else` la siguiente casuística:\n",
    "\n",
    "1. Si el distrito es \"Moncloa\" o \"Centro\", y además la superficie es superior a 100 metros cuadrados, el precio de la casa es de 1000\n",
    "2. Si el distrito es \"Salamanca\", y además la superficie de la casa es al menos de 150 metros, el precio de la casa es de 1500\n",
    "3. Si el distrito no es \"Retiro\" y la superficie está entre 60 y 80 metros, el precio es de 600\n",
    "4. En cualquier otro caso, el precio será de 0"
   ]
  },
  {
   "cell_type": "code",
   "execution_count": 21,
   "metadata": {},
   "outputs": [
    {
     "name": "stdout",
     "output_type": "stream",
     "text": [
      "1500\n"
     ]
    }
   ],
   "source": [
    "distrito = str(\"Salamanca\")\n",
    "superficie = 150\n",
    "if (distrito == \"Moncloa\" or distrito == \"Centro\") and (superficie > 100):\n",
    "    print(\" el precio es 1000\")\n",
    "elif (distrito == \"Salamanca\") and (superficie >= 150):\n",
    "    print(\"1500\") \n",
    "elif distrito !=(\"Retiro\") and (60 <= superficie <= 80):\n",
    "    print(600)\n",
    "else:\n",
    "    print(\"0\")\n",
    "\n",
    "#distrito = input(\"en q distrito esta\")\n",
    "#while True:\n",
    "    #Metros = input(\"cuantos metros tiene? \")\n",
    "    #if metros.isdigit():\n",
    "    #metros = int(metros)\n",
    "    #break \n",
    "#else:\n",
    "#print(\"no incorrecto, try again\")\n",
    "#print(distrito, metros)\n"
   ]
  },
  {
   "cell_type": "code",
   "execution_count": null,
   "metadata": {},
   "outputs": [],
   "source": []
  },
  {
   "cell_type": "markdown",
   "metadata": {},
   "source": [
    "## Ejercicio 3\n",
    "En este ejercicio vamos a realizar un programa muy parecido. Para este caso queremos que se cumplan las siguientes condiciones:\n",
    "\n",
    "1. Primero se compruebe si el distrito es \"Retiro\". Si es asi, que imprima \"Distrito Retiro\", y si no, \"Otro distrito\"\n",
    "2. Si el distrito es \"Retiro\", comprueba si si la superficie es mayor de 100 metros cuadrados. En tal caso, que imprima un precio de 1000, y si no, de 500.\n",
    "\n",
    "Hay que usar `ifs` anidados"
   ]
  },
  {
   "cell_type": "code",
   "execution_count": 32,
   "metadata": {},
   "outputs": [
    {
     "name": "stdout",
     "output_type": "stream",
     "text": [
      "Distrito Retiro\n",
      "1000\n"
     ]
    }
   ],
   "source": [
    "distrito = str(\"Centro\")\n",
    "superficie = 200\n",
    "if distrito == \"Retiro\": \n",
    "    print(\"Distrito Retiro\")\n",
    "    if distrito != \"Retiro\":\n",
    "        print(\"Otro distinto\")\n",
    "if (superficie >= 100) and (distrito == \"Retiro\"):\n",
    "    print(\"1000\")\n",
    "else:\n",
    "    print(\"500\")\n"
   ]
  },
  {
   "cell_type": "markdown",
   "metadata": {},
   "source": [
    "## Ejercicio 4\n",
    "Escribe un programa que tenga dos variables: un numero, y una lista numérica. El programa debe recorrer la lista e imprimir por pantalla cada elemento de la lista multiplicado por el número"
   ]
  },
  {
   "cell_type": "code",
   "execution_count": 47,
   "metadata": {},
   "outputs": [
    {
     "name": "stdout",
     "output_type": "stream",
     "text": [
      "2\n",
      "4\n",
      "6\n",
      "8\n",
      "10\n"
     ]
    }
   ],
   "source": [
    "numero=2\n",
    "listanumeros=[1,2,3,4,5]\n",
    "for numeros  in listanumeros:\n",
    "    resultado=numeros*numero\n",
    "    print(resultado)"
   ]
  },
  {
   "cell_type": "code",
   "execution_count": null,
   "metadata": {},
   "outputs": [],
   "source": []
  },
  {
   "cell_type": "markdown",
   "metadata": {},
   "source": [
    "## Ejercicio 5\n",
    "Imprime por pantalla cada número del -10 al -1. En ese orden. Consulta [la documentación](https://www.w3schools.com/python/ref_func_range.asp) de `range`"
   ]
  },
  {
   "cell_type": "code",
   "execution_count": 58,
   "metadata": {},
   "outputs": [
    {
     "name": "stdout",
     "output_type": "stream",
     "text": [
      "-1\n",
      "-2\n",
      "-3\n",
      "-4\n",
      "-5\n",
      "-6\n",
      "-7\n",
      "-8\n",
      "-9\n",
      "-10\n"
     ]
    }
   ],
   "source": [
    "x = range(-10,0,1)\n",
    "for n in x:\n",
    "  print(n)"
   ]
  },
  {
   "cell_type": "markdown",
   "metadata": {},
   "source": [
    "## Ejercicio 6\n",
    "Dada la siguiente lista:\n",
    "\n",
    "> list1 = [12, 15, 32, 42, 55, 75, 122, 132, 150, 180, 200]\n",
    "\n",
    "Implementa un programa que los recorra e imprima por pantalla todos los divisibles por 5. Si nos encontramos con alguno que sea mayor que 150, detener el bucle."
   ]
  },
  {
   "cell_type": "code",
   "execution_count": 66,
   "metadata": {},
   "outputs": [
    {
     "name": "stdout",
     "output_type": "stream",
     "text": [
      "15\n",
      "55\n",
      "75\n",
      "150\n"
     ]
    }
   ],
   "source": [
    "list1 = [12, 15, 32, 42, 55, 75, 122, 132, 150, 180, 200]\n",
    "\n",
    "for num in list1:\n",
    "    if num > 150:\n",
    "        break\n",
    "    if num % 5 == 0:\n",
    "        print(num)"
   ]
  },
  {
   "cell_type": "code",
   "execution_count": null,
   "metadata": {},
   "outputs": [],
   "source": []
  },
  {
   "cell_type": "markdown",
   "metadata": {},
   "source": [
    "## Ejercicio 7\n",
    "Escribe un programa en Python que imprima por pantalla todos los números divisibles por 5 y divisibles por 7, dentro del rango de valores (150, 350)"
   ]
  },
  {
   "cell_type": "code",
   "execution_count": 72,
   "metadata": {},
   "outputs": [
    {
     "name": "stdout",
     "output_type": "stream",
     "text": [
      "175\n",
      "210\n",
      "245\n",
      "280\n",
      "315\n",
      "350\n"
     ]
    }
   ],
   "source": [
    "lista2 = 200\n",
    "lista2 = list(range(150, 351))\n",
    "for num in lista2:\n",
    "    if (num % 5 == 0 and num%7 == 0):\n",
    "        print(num)"
   ]
  },
  {
   "cell_type": "code",
   "execution_count": null,
   "metadata": {},
   "outputs": [],
   "source": []
  },
  {
   "cell_type": "markdown",
   "metadata": {},
   "source": [
    "## Ejercicio 8\n",
    "Implementa un programa que imprima por pantalla el siguiente patrón\n",
    "\n",
    "5 4 3 2 1 \n",
    "\n",
    "4 3 2 1 \n",
    "\n",
    "3 2 1 \n",
    "\n",
    "2 1 \n",
    "\n",
    "1\n",
    "\n",
    "NOTA: NO hay lineas en blanco entre una línea y otra."
   ]
  },
  {
   "cell_type": "code",
   "execution_count": 89,
   "metadata": {},
   "outputs": [],
   "source": [
    "\n",
    "list = [5,4,3,2,1]\n",
    "def remove_first_char(s):\n",
    "     return s[0,4]\n",
    "\n",
    "\n"
   ]
  },
  {
   "cell_type": "code",
   "execution_count": null,
   "metadata": {},
   "outputs": [],
   "source": []
  },
  {
   "cell_type": "code",
   "execution_count": null,
   "metadata": {},
   "outputs": [],
   "source": []
  },
  {
   "cell_type": "code",
   "execution_count": null,
   "metadata": {},
   "outputs": [],
   "source": []
  },
  {
   "cell_type": "markdown",
   "metadata": {},
   "source": [
    "## Ejercicio 9\n",
    "En este ejercicio vamos a crear un pequeño juego. Se trata de intentar adivinar un numero del 1 al 5. Tenemos dos intentos para acertar. Pasos a seguir:\n",
    "\n",
    "1. Ya viene implementado cómo obtener un número aleatorio del 1 al 5\n",
    "2. Tendrás que declarar en una variable el numero de vidas, y mediante un bucle while, comprobar que todavia quedan vidas.\n",
    "3. Dentro del bucle, obtener el valor del usuario y comprobar si es ese el numero a adivinar. Si no, actualizar las vidas.\n",
    "4. Si acertamos, salimos del bucle e imprimimos por pantalla \"You win\". Y si perdemos también salimos del bucle, pero en este caso imprimimos por pantalla \"You lose\".\n",
    "\n",
    "TIP: te puede resultar útil usar la sentencia `else` cuando acabe el bucle `while`. Lo que haya dentro de ese `else` se ejecutará una vez acabe la ejecución del `while`. Lo podrás usar para cuando pierdas."
   ]
  },
  {
   "cell_type": "code",
   "execution_count": 1,
   "metadata": {},
   "outputs": [
    {
     "ename": "NameError",
     "evalue": "name 'random' is not defined",
     "output_type": "error",
     "traceback": [
      "\u001b[1;31m---------------------------------------------------------------------------\u001b[0m",
      "\u001b[1;31mNameError\u001b[0m                                 Traceback (most recent call last)",
      "Cell \u001b[1;32mIn[1], line 1\u001b[0m\n\u001b[1;32m----> 1\u001b[0m numero_a_adivinar \u001b[38;5;241m=\u001b[39m \u001b[43mrandom\u001b[49m\u001b[38;5;241m.\u001b[39mrandint(\u001b[38;5;241m1\u001b[39m, \u001b[38;5;241m5\u001b[39m)\n\u001b[0;32m      3\u001b[0m \u001b[38;5;66;03m# Paso 2: Declarar la variable de vidas\u001b[39;00m\n\u001b[0;32m      4\u001b[0m vidas \u001b[38;5;241m=\u001b[39m \u001b[38;5;241m2\u001b[39m\n",
      "\u001b[1;31mNameError\u001b[0m: name 'random' is not defined"
     ]
    }
   ],
   "source": [
    "numero_a_adivinar = random.randint(1, 5)\n",
    "\n",
    "# Paso 2: Declarar la variable de vidas\n",
    "vidas = 2\n",
    "\n",
    "# Paso 3: Crear el bucle while para comprobar si quedan vidas\n",
    "while vidas > 0:\n",
    "    # Obtener el valor ingresado por el usuario\n",
    "    intento = int(input(\"Adivina el número (del 1 al 5): \"))\n",
    "    \n",
    "    # Verificar si el intento es correcto\n",
    "    if intento == numero_a_adivinar:\n",
    "        print(\"You win\")\n",
    "        break  # Salir del bucle si el usuario adivina correctamente\n",
    "    else:\n",
    "        # Actualizar las vidas restantes\n",
    "        vidas -= 1\n",
    "        print(f\"Incorrecto. Te quedan {vidas} vidas.\")\n",
    "# Si el bucle termina sin acertar, el usuario ha perdido\n",
    "else:\n",
    "    print(\"You lose\")"
   ]
  }
 ],
 "metadata": {
  "kernelspec": {
   "display_name": "Data_analysis.env",
   "language": "python",
   "name": "python3"
  },
  "language_info": {
   "codemirror_mode": {
    "name": "ipython",
    "version": 3
   },
   "file_extension": ".py",
   "mimetype": "text/x-python",
   "name": "python",
   "nbconvert_exporter": "python",
   "pygments_lexer": "ipython3",
   "version": "3.11.10"
  }
 },
 "nbformat": 4,
 "nbformat_minor": 4
}
